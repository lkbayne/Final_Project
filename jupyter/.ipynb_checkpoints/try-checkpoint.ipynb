{
 "cells": [
  {
   "cell_type": "code",
   "execution_count": 14,
   "metadata": {},
   "outputs": [],
   "source": [
    "import numpy as np\n",
    "import matplotlib.pyplot as plt\n",
    "import pandas as pd\n",
    "from scipy import stats\n",
    "from scipy.optimize import curve_fit\n",
    "import sys\n",
    "sys.path.append('/Users/lkbayne/Desktop/python/tools')\n",
    "import chem_calcs as cc"
   ]
  },
  {
   "cell_type": "code",
   "execution_count": 15,
   "metadata": {},
   "outputs": [],
   "source": [
    "#importing pFI files\n",
    "files = ['DAY0.txt', 'DAY7.txt', 'DAY14.txt', 'DAY21.txt', 'DAY35.txt', 'DAY96.txt', 'DAY180.txt']\n",
    "\n",
    "df = pd.read_csv(file, sep=\"\\t\")\n",
    "\n",
    "#filtering for only the sample name, absorbances, and sequence name\n",
    "filtered_df = df[['Name', 'AVE810_1050', 'AVE880_1050', 'Sequence Name']].copy()\n",
    "\n",
    "#correcting different sample names- I label manually \n",
    "Si_fixes = {\"A2\": \"A2_Si\", \"A3\": \"A3_Si\", \"A4\": \"A4_Si\",\n",
    "            \"B2\": \"B2_Si\", \"B3\": \"B3_Si\", \"B4\": \"B4_Si\",\n",
    "            \"C2\": \"C2_Si\", \"C3\": \"C3_Si\", \"C4\": \"C4_Si\",\n",
    "            \"D1\": \"D1_Si\", \"D2\": \"D2_Si\"}\n",
    "\n",
    "P_fixes = {\"A1_P\": \"A1_PO4\", \"A3_P\": \"A3_PO4\", \"A4_P\": \"A4_PO4\",\n",
    "           \"B1_P\": \"B1_PO4\", \"B3_P\": \"B3_PO4\", \"B4_P\": \"B4_PO4\",\n",
    "           \"C1_P\": \"C1_PO4\", \"C3_P\": \"C3_PO4\", \"C4-P\": \"C4_PO4\",\n",
    "           \"D1_P\": \"D1_PO4\", \"D2_P\": \"D2_PO4\"}\n",
    "\n",
    "#combine\n",
    "name_fixes = {**Si_fixes, **P_fixes}\n",
    "\n",
    "#update df with correct sample names\n",
    "filtered_df['Name'] = filtered_df['Name'].replace(name_fixes)\n",
    "\n",
    "#sample names\n",
    "Si_samples = [\"A2_Si\", \"A3_Si\", \"A4_Si\", \"B2_Si\", \"B3_Si\", \"B4_Si\", \"C2_Si\", \"C3_Si\", \"C4_Si\", \"D1_Si\", \"D2_Si\"]\n",
    "\n",
    "P_samples = [\"A1_PO4\", \"A3_PO4\", \"A4_PO4\", \"B1_PO4\", \"B3_PO4\", \"B4_PO4\", \"C1_PO4\", \"C3_PO4\", \"C4_PO4\", \"D1_PO4\", \"D2_PO4\"]\n",
    "\n",
    "#average absorbance of each sample\n",
    "Si_averages = {}\n",
    "for sample in Si_samples:\n",
    "    avg_abs = filtered_df.loc[filtered_df['Name'] == sample, 'AVE810_1050'].mean()\n",
    "    Si_averages[sample] = avg_abs"
   ]
  },
  {
   "cell_type": "code",
   "execution_count": 16,
   "metadata": {},
   "outputs": [
    {
     "name": "stdout",
     "output_type": "stream",
     "text": [
      "3.9983120000000003\n",
      "45.122\n"
     ]
    }
   ],
   "source": [
    "#calculating standard concentrations\n",
    "PO4_conc = cc.conc_to_dil(4997.89, 40, None, 50*1000)\n",
    "print(PO4_conc)\n",
    "Si_conc = cc.conc_to_dil(10255, 220, None, 50*1000)\n",
    "print(Si_conc)"
   ]
  },
  {
   "cell_type": "code",
   "execution_count": 17,
   "metadata": {},
   "outputs": [],
   "source": [
    "#calibration curve pFI dilution values\n",
    "dilutions = np.array([0, (600-450)/600, (600-300)/600, (600-150)/600, (600-50)/600])\n",
    "\n",
    "#each dilution 3 times to match triplicate calibration points\n",
    "dil_series = np.repeat(dilutions, 3)\n",
    "\n",
    "#calibration concentrations\n",
    "Si_cali_concs = dil_series * Si_conc\n",
    "PO4_cali_concs = dil_series * PO4_conc"
   ]
  },
  {
   "cell_type": "code",
   "execution_count": 23,
   "metadata": {},
   "outputs": [
    {
     "name": "stdout",
     "output_type": "stream",
     "text": [
      "Si Slope= 0.025511181304965196\n",
      "Si y-intercept= 0.0011247639593910952\n",
      "Sxo_Si = 0.013902124672591347\n",
      "   Sample  [Si] (uM)  Uncertainty\n",
      "0   A2_Si  40.835306     0.712159\n",
      "1   A3_Si  40.559898     0.710760\n",
      "2   A4_Si  40.938986     0.712688\n",
      "3   B2_Si  40.672633     0.711332\n",
      "4   B3_Si  41.131294     0.713671\n",
      "5   B4_Si  40.630991     0.711120\n",
      "6   C2_Si  40.957423     0.712782\n",
      "7   C3_Si  41.073934     0.713378\n",
      "8   C4_Si  41.187884     0.713961\n",
      "9   D1_Si  39.987051     0.707870\n",
      "10  D2_Si  40.554175     0.710731\n"
     ]
    }
   ],
   "source": [
    "#Calculating Si concentrations and uncertainty\n",
    "\n",
    "#get absorbances\n",
    "Si_cali_abs = filtered_df.loc[filtered_df['Sequence Name']==\"AutoCalibration_Silicate\", 'AVE810_1050'].to_numpy()\n",
    "#average absorbances\n",
    "avg_abs = filtered_df.loc[filtered_df['Name'].str.contains(sample, case=False), 'AVE810_1050'].mean()\n",
    "\n",
    "#linear regression to get slope and intercept\n",
    "fit = stats.linregress(Si_cali_concs, Si_cali_abs)\n",
    "Si_slope = fit.slope\n",
    "Si_yint = fit.intercept\n",
    "Si_slope_err = fit.stderr\n",
    "Si_yint_err = fit.intercept_stderr\n",
    "print('Si Slope=', Si_slope)\n",
    "print('Si y-intercept=', Si_yint)\n",
    "\n",
    "#calculate uncertainty variables\n",
    "Si_predicted_abs = Si_slope * np.array(Si_cali_concs) + Si_yint\n",
    "Si_residuals = np.array(Si_cali_abs) - Si_predicted_abs\n",
    "n_Si = len(Si_cali_concs)  #number of calibration points\n",
    "Sxo_Si = np.sqrt(np.sum(Si_residuals**2) / (n_Si - 2))  #for linear n - 2\n",
    "print('Sxo_Si =', Sxo_Si)\n",
    "\n",
    "#concentration\n",
    "results = []\n",
    "for sample in Si_samples:\n",
    "    avg_abs = filtered_df.loc[filtered_df['Name'] == sample, 'AVE810_1050'].mean()\n",
    "    \n",
    "    conc, u_combined = cc.calc_Si_conc_and_uncert(avg_abs, Si_yint, Si_slope, Sxo_Si, Si_slope_err, Si_yint_err)\n",
    "    \n",
    "    results.append({'Sample': sample, '[Si] (uM)': conc, 'Uncertainty': u_combined})\n",
    "\n",
    "# Convert results to a DataFrame and print\n",
    "results_df = pd.DataFrame(results)\n",
    "print(results_df)"
   ]
  }
 ],
 "metadata": {
  "kernelspec": {
   "display_name": "Python [conda env:base] *",
   "language": "python",
   "name": "conda-base-py"
  },
  "language_info": {
   "codemirror_mode": {
    "name": "ipython",
    "version": 3
   },
   "file_extension": ".py",
   "mimetype": "text/x-python",
   "name": "python",
   "nbconvert_exporter": "python",
   "pygments_lexer": "ipython3",
   "version": "3.12.8"
  }
 },
 "nbformat": 4,
 "nbformat_minor": 4
}
